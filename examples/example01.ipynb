{
 "cells": [
  {
   "cell_type": "markdown",
   "metadata": {},
   "source": [
    "# Understanding gduals and floats\n",
    "(Dario Izzo)"
   ]
  },
  {
   "cell_type": "markdown",
   "metadata": {},
   "source": [
    "## 1 - Importing stuff\n"
   ]
  },
  {
   "cell_type": "code",
   "execution_count": 51,
   "metadata": {
    "collapsed": false
   },
   "outputs": [],
   "source": [
    "from pyaudi import gdual, sin, cos, tan"
   ]
  },
  {
   "cell_type": "markdown",
   "metadata": {},
   "source": [
    "## 2 - Arithmetic between floats and gduals\n",
    "Arithmetic operators +,-,+,/ and \\** work on a gdual as well as mathematical functions (from pyaudi). But not everything must be a gdual. You can operate between gduals and floats too, and between gdual having different truncation order.\n"
   ]
  },
  {
   "cell_type": "code",
   "execution_count": 12,
   "metadata": {
    "collapsed": false
   },
   "outputs": [
    {
     "data": {
      "text/latex": [
       "\\[ 3.3+{dx}+\\mathcal{O}\\left(4\\right) \\]"
      ],
      "text/plain": [
       "3.3+dx"
      ]
     },
     "execution_count": 12,
     "metadata": {},
     "output_type": "execute_result"
    }
   ],
   "source": [
    "x = gdual(1.2, \"x\", 3) # a gdual\n",
    "y = 2.1                # a float\n",
    "f = x + y              # this will be a gdual\n",
    "f"
   ]
  },
  {
   "cell_type": "markdown",
   "metadata": {},
   "source": [
    "NOTE: the gdual f defined above only contains derivative infos w.r.t the variable \"x\". You cannot make derivatives w.r.t \"y\" as y was not defined as a gdual "
   ]
  },
  {
   "cell_type": "code",
   "execution_count": 28,
   "metadata": {
    "collapsed": false
   },
   "outputs": [
    {
     "name": "stdout",
     "output_type": "stream",
     "text": [
      "The result is a float: 4.183307552861899\n",
      "The result is a gdual (contains only derivatives w.r.t. x): 4.18331+5.06537*dx+1.54332*dx**2-0.0437224*dx**3\n",
      "The result is a gdual (contains derivatives w.r.t. x and y): 5.06537*dx-0.0827871*dx**2*dy+4.18331-0.324612*dy+0.104137*dx*dy**2-0.0437224*dx**3+1.54332*dx**2-0.250974*dx*dy+0.10332*dy**2-0.0345762*dy**3\n"
     ]
    }
   ],
   "source": [
    "def f(x,y):\n",
    "    return x*x+2*tan(x/(y+1))-sin(x)\n",
    "\n",
    "xf = 2\n",
    "yf = 3\n",
    "x = gdual(2., \"x\", 3)\n",
    "y = gdual(3., \"y\", 3)\n",
    "print(\"The result is a float: {}\".format(f(xf,yf)))\n",
    "print(\"The result is a gdual (contains only derivatives w.r.t. x): {}\".format(f(x,yf)))\n",
    "print(\"The result is a gdual (contains derivatives w.r.t. x and y): {}\".format(f(x,y)))\n"
   ]
  },
  {
   "cell_type": "markdown",
   "metadata": {},
   "source": [
    "## 3 - Promoting a gdual\n",
    "You can also perform arithmetic operations with gduals defined with a different differentiation order. In this case the resulting gdual will be \"promoted\" to the higher order"
   ]
  },
  {
   "cell_type": "code",
   "execution_count": 49,
   "metadata": {
    "collapsed": false
   },
   "outputs": [
    {
     "name": "stdout",
     "output_type": "stream",
     "text": [
      "dx-1.9+dy\n",
      "4\n",
      "1\n",
      "$$x$$\n"
     ]
    }
   ],
   "source": [
    "x = gdual(0.1, \"x\", 2)\n",
    "y = gdual(-2, \"y\", 4)\n",
    "f = x+y\n",
    "print(f)\n",
    "print(f.order)\n",
    "print(f.degree)\n",
    "print(\"$$x$$\")"
   ]
  },
  {
   "cell_type": "markdown",
   "metadata": {},
   "source": [
    "NOTE: be careful when using gdual promotion. You may \"lose\" information implicitly if the order equals the degree. "
   ]
  },
  {
   "cell_type": "code",
   "execution_count": 5,
   "metadata": {
    "collapsed": false
   },
   "outputs": [
    {
     "data": {
      "text/plain": [
       "-2.0"
      ]
     },
     "execution_count": 5,
     "metadata": {},
     "output_type": "execute_result"
    }
   ],
   "source": [
    "f.get_derivative([1,1,0])"
   ]
  },
  {
   "cell_type": "markdown",
   "metadata": {},
   "source": [
    "## Changing the reference point\n",
    "By re-defining $x,y,z$, we can compute the derivatives in a different point. For instance, for the computation of the derivatives in the point $\\left(1,2,3\\right)$, we write:"
   ]
  },
  {
   "cell_type": "code",
   "execution_count": 6,
   "metadata": {
    "collapsed": false
   },
   "outputs": [
    {
     "data": {
      "text/latex": [
       "\\[ 0.07056{dz}^{2}+0.989992{dz}-0.164999{dz}^{3}-0.0354271{dy}^{3}+1.08617{dx}^{2}+0.0925294{dy}^{2}-0.306312{dx}{dy}-0.248865{dy}+0.133785{dx}{dy}^{2}+0.0375972{dx}^{3}+1.55139+2.74659{dx}-0.0950441{dx}^{2}{dy}+\\mathcal{O}\\left(4\\right) \\]"
      ],
      "text/plain": [
       "0.07056*dz**2+0.989992*dz-0.164999*dz**3-0.0354271*dy**3+1.08617*dx**2+0.0925294*dy**2-0.306312*dx*dy-0.248865*dy+0.133785*dx*dy**2+0.0375972*dx**3+1.55139+2.74659*dx-0.0950441*dx**2*dy"
      ]
     },
     "execution_count": 6,
     "metadata": {},
     "output_type": "execute_result"
    }
   ],
   "source": [
    "x = gdual(1.,\"x\",3)\n",
    "y = gdual(2.,\"y\",3)\n",
    "z = gdual(3.,\"z\",3)\n",
    "f = x*x+2*tan(x/(y+1))-sin(z)\n",
    "f"
   ]
  },
  {
   "cell_type": "markdown",
   "metadata": {},
   "source": [
    "Now $\\frac{\\partial f}{\\partial z}$:"
   ]
  },
  {
   "cell_type": "code",
   "execution_count": 7,
   "metadata": {
    "collapsed": false
   },
   "outputs": [
    {
     "data": {
      "text/plain": [
       "0.9899924966004454"
      ]
     },
     "execution_count": 7,
     "metadata": {},
     "output_type": "execute_result"
    }
   ],
   "source": [
    "f.get_derivative([0,0,1])"
   ]
  },
  {
   "cell_type": "markdown",
   "metadata": {},
   "source": [
    "We can verifiy the correctness by manually computing the derivative:"
   ]
  },
  {
   "cell_type": "code",
   "execution_count": 8,
   "metadata": {
    "collapsed": false
   },
   "outputs": [
    {
     "data": {
      "text/plain": [
       "0.9899924966004454"
      ]
     },
     "execution_count": 8,
     "metadata": {},
     "output_type": "execute_result"
    }
   ],
   "source": [
    "-cos(3.)"
   ]
  },
  {
   "cell_type": "markdown",
   "metadata": {
    "collapsed": true
   },
   "source": [
    "## Encapsulating f in a function call\n",
    "We may write all of the above in a more elegant fashion by just defining f as a function and then calling it with gduals, rather than floats"
   ]
  },
  {
   "cell_type": "code",
   "execution_count": 9,
   "metadata": {
    "collapsed": false
   },
   "outputs": [],
   "source": [
    "def f(x,y,z):\n",
    "    return x*x+2*tan(x/(y+1))-sin(z)"
   ]
  },
  {
   "cell_type": "code",
   "execution_count": 10,
   "metadata": {
    "collapsed": false
   },
   "outputs": [
    {
     "name": "stdout",
     "output_type": "stream",
     "text": [
      "0.07056*dz**2+0.989992*dz-0.164999*dz**3-0.0354271*dy**3+1.08617*dx**2+0.0925294*dy**2-0.306312*dx*dy-0.248865*dy+0.133785*dx*dy**2+0.0375972*dx**3+1.55139+2.74659*dx-0.0950441*dx**2*dy\n"
     ]
    },
    {
     "data": {
      "text/plain": [
       "1.5513870909612837"
      ]
     },
     "execution_count": 10,
     "metadata": {},
     "output_type": "execute_result"
    }
   ],
   "source": [
    "x = gdual(1.,\"x\",3)\n",
    "y = gdual(2.,\"y\",3)\n",
    "z = gdual(3.,\"z\",3)\n",
    "print(f(x,y,z)) #Call with gduals\n",
    "f(1.,2.,3.)     #Call with floats"
   ]
  },
  {
   "cell_type": "code",
   "execution_count": null,
   "metadata": {
    "collapsed": true
   },
   "outputs": [],
   "source": []
  }
 ],
 "metadata": {
  "kernelspec": {
   "display_name": "Python 3",
   "language": "python",
   "name": "python3"
  },
  "language_info": {
   "codemirror_mode": {
    "name": "ipython",
    "version": 3
   },
   "file_extension": ".py",
   "mimetype": "text/x-python",
   "name": "python",
   "nbconvert_exporter": "python",
   "pygments_lexer": "ipython3",
   "version": "3.5.1"
  }
 },
 "nbformat": 4,
 "nbformat_minor": 0
}
