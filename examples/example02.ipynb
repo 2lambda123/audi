{
 "cells": [
  {
   "cell_type": "markdown",
   "metadata": {},
   "source": [
    "# Differential Learning\n",
    "(Dario Izzo)"
   ]
  },
  {
   "cell_type": "markdown",
   "metadata": {},
   "source": [
    "## 1 - Importing stuff\n"
   ]
  },
  {
   "cell_type": "code",
   "execution_count": 91,
   "metadata": {
    "collapsed": false
   },
   "outputs": [],
   "source": [
    "from pyaudi import gdual, sin, cos, tan\n",
    "from random import random\n",
    "from matplotlib import pyplot as plt\n",
    "%matplotlib inline"
   ]
  },
  {
   "cell_type": "markdown",
   "metadata": {},
   "source": [
    "## 2 - Controller representation and \"simulator\"\n",
    "The controller is tipycally represented by a neural net, but for the purpose of explaining this new learning concept we will just use polinomials. Later, changing the controllers into a NN with weights as params will not change the essence of what is done here."
   ]
  },
  {
   "cell_type": "code",
   "execution_count": 92,
   "metadata": {
    "collapsed": true
   },
   "outputs": [],
   "source": [
    "# Definition of the controller in terms of the weights parameters\n",
    "def u(state, weights):\n",
    "    x,v = state\n",
    "    a,b,c,e,f,g = weights\n",
    "    return a + b*x + c*v + e*x*v + f*x**2 + g*v**2"
   ]
  },
  {
   "cell_type": "code",
   "execution_count": 93,
   "metadata": {
    "collapsed": false
   },
   "outputs": [],
   "source": [
    "# Definition of the equation of motion (our physics simulator propagating the system to its next state)\n",
    "def eom(state, weights):\n",
    "    x,v = state\n",
    "    dx = v\n",
    "    dv = u(state, weights)\n",
    "    return (dx, dv)"
   ]
  },
  {
   "cell_type": "markdown",
   "metadata": {},
   "source": [
    "## 3 - The Euler Propagation\n",
    "In ER Euler propagators are commonly used. The essence of what is done here would not change the if we code a Newton Raphson or a better method."
   ]
  },
  {
   "cell_type": "code",
   "execution_count": 94,
   "metadata": {
    "collapsed": false
   },
   "outputs": [],
   "source": [
    "weights = [gdual(0.2*(random()-0.5), _, 3) for _ in \"abcefg\"]\n",
    "x = [gdual(2*(random()-0.5))]\n",
    "v = [gdual(2*(random()-0.5))]\n",
    "dt = 0.1\n",
    "# We propagate for 10 seconds (cannot oincrease this much as the control is polynomial thus x**2 and v**2 would make u1 biiiig)\n",
    "for i in range(100):\n",
    "    dx, dv = eom([x[-1],v[-1]], weights)\n",
    "    x.append(x[-1] + dt * dx)\n",
    "    v.append(v[-1] + dt * dv)"
   ]
  },
  {
   "cell_type": "markdown",
   "metadata": {},
   "source": [
    "NOTE: the resulting points are gdual, they contain information on how the state reached by our \"robot\" changes if we change the control weights!!"
   ]
  },
  {
   "cell_type": "code",
   "execution_count": 95,
   "metadata": {
    "collapsed": false
   },
   "outputs": [
    {
     "data": {
      "text/plain": [
       "(-0.357573,\n",
       " -298.66*db**3+62.7548*da*dc*dg+39.3345*dc**2*de+5.48364*de**2*df+44.9124*db*dc*de+99.0048*da*de*dg+62.8085*da*de-13.0294*db*de**2+8.27279*da*dc+1643.24*da**3+452.531*da*db*df+12.3251*dc**2*dg+5.96563*dc**2+2094.93*da*db**2+206.896*da*df-1312.92*da**2*dc+5.28512*df*dg**2+4.93464*df*dg+329.313*da*df*dg+367.742*da*dc*de+...)"
      ]
     },
     "execution_count": 95,
     "metadata": {},
     "output_type": "execute_result"
    }
   ],
   "source": [
    "x[0], x[-1]"
   ]
  },
  {
   "cell_type": "code",
   "execution_count": 96,
   "metadata": {
    "collapsed": false
   },
   "outputs": [
    {
     "data": {
      "text/plain": [
       "(0.0718192,\n",
       " -100.899*db**3-63.3527*da*dc*dg+5.93268*dc**2*de+6.26078*de**2*df+72.7414*db*dc*de+8.43122*da*de*dg+6.85509*da*de+2.09133*db*de**2-38.9428*da*dc+1446.08*da**3+1138.3*da*db*df-3.55643*dc**2*dg-2.22531*dc**2+976.732*da*db**2+94.5493*da*df-451.579*da**2*dc+1.88941*df*dg**2+1.82713*df*dg+114.817*da*df*dg-41.9268*da*dc*de+...)"
      ]
     },
     "execution_count": 96,
     "metadata": {},
     "output_type": "execute_result"
    }
   ],
   "source": [
    "v[0],v[-1]"
   ]
  },
  {
   "cell_type": "code",
   "execution_count": 97,
   "metadata": {
    "collapsed": false
   },
   "outputs": [
    {
     "data": {
      "image/png": "[encoded data removed]",
      "text/plain": [
       "<matplotlib.figure.Figure at 0x7f69b5bf5908>"
      ]
     },
     "metadata": {},
     "output_type": "display_data"
    }
   ],
   "source": [
    "plt.plot([it.constant_cf for it in x],[it.constant_cf for it in v])\n",
    "plt.plot(x[0].constant_cf, v[0].constant_cf, 'ro')\n",
    "plt.show()"
   ]
  },
  {
   "cell_type": "code",
   "execution_count": 98,
   "metadata": {
    "collapsed": false
   },
   "outputs": [],
   "source": [
    "xf, vf = x[-1], v[-1]"
   ]
  },
  {
   "cell_type": "code",
   "execution_count": 99,
   "metadata": {
    "collapsed": false
   },
   "outputs": [
    {
     "data": {
      "text/plain": [
       "0.86889003396021"
      ]
     },
     "execution_count": 99,
     "metadata": {},
     "output_type": "execute_result"
    }
   ],
   "source": [
    "xf.constant_cf"
   ]
  },
  {
   "cell_type": "code",
   "execution_count": 100,
   "metadata": {
    "collapsed": false
   },
   "outputs": [
    {
     "data": {
      "text/plain": [
       "0.00835324211160893"
      ]
     },
     "execution_count": 100,
     "metadata": {},
     "output_type": "execute_result"
    }
   ],
   "source": [
    "vf.constant_cf"
   ]
  },
  {
   "cell_type": "markdown",
   "metadata": {},
   "source": [
    "# 4 - Studying the effects of the weights on the behavior\n",
    "We have represented all the robot behavior (x, v) as a polynomial function of the weights. So we now know what happens to the behaviour if we change the weights!! Lets see ... we only consider the final state, but the same can be done for all states before"
   ]
  },
  {
   "cell_type": "code",
   "execution_count": 101,
   "metadata": {
    "collapsed": false
   },
   "outputs": [
    {
     "name": "stdout",
     "output_type": "stream",
     "text": [
      "new xf: 0.5575095882959649\n",
      "new vf: 0.05315918657381213\n"
     ]
    }
   ],
   "source": [
    "dweights = dict({'da': -0.01, 'db': 0.01, 'dc': -0.01, 'de': 0.01, 'df': 0.01, 'dg': -0.01})\n",
    "#Lets predict the new final position of our 'robot' if we change his controller as defined above\n",
    "print(\"new xf: {}\".format(xf.evaluate(dweights)))\n",
    "print(\"new vf: {}\".format(vf.evaluate(dweights)))"
   ]
  },
  {
   "cell_type": "markdown",
   "metadata": {},
   "source": [
    "# 5 - Check that we learned the correct map\n",
    "We now simulate again our behavior using the new weights to see where we end up to check if the prediction made after our differential learning is correct."
   ]
  },
  {
   "cell_type": "code",
   "execution_count": 102,
   "metadata": {
    "collapsed": false
   },
   "outputs": [],
   "source": [
    "new_weights = [it + dweights['d' + it.symbol_set[0]] for it in weights] "
   ]
  },
  {
   "cell_type": "code",
   "execution_count": 103,
   "metadata": {
    "collapsed": false
   },
   "outputs": [],
   "source": [
    "new_simulated_x = [x[0]]\n",
    "new_simulated_v = [v[0]]\n",
    "dt = 0.1\n",
    "# We propagate for 10 seconds (cannot oincrease this much as the control is polynomial thus x**2 and v**2 would make u1 biiiig)\n",
    "for i in range(100):\n",
    "    dx, dv = eom([new_simulated_x[-1],new_simulated_v[-1]], new_weights)\n",
    "    new_simulated_x.append(new_simulated_x[-1] + dt * dx)\n",
    "    new_simulated_v.append(new_simulated_v[-1] + dt * dv)"
   ]
  },
  {
   "cell_type": "code",
   "execution_count": 104,
   "metadata": {
    "collapsed": false
   },
   "outputs": [
    {
     "data": {
      "image/png": "[encoded data removed]",
      "text/plain": [
       "<matplotlib.figure.Figure at 0x7f69b5d91d30>"
      ]
     },
     "metadata": {},
     "output_type": "display_data"
    }
   ],
   "source": [
    "plt.plot([it.constant_cf for it in new_simulated_x],[it.constant_cf for it in new_simulated_v],'r')\n",
    "plt.plot([it.constant_cf for it in x],[it.constant_cf for it in v])\n",
    "plt.plot(x[0].constant_cf, v[0].constant_cf, 'ro')\n",
    "plt.show()"
   ]
  },
  {
   "cell_type": "code",
   "execution_count": 105,
   "metadata": {
    "collapsed": false
   },
   "outputs": [],
   "source": [
    "new_simulated_xf, new_simulated_vf = new_simulated_x[-1], new_simulated_v[-1]"
   ]
  },
  {
   "cell_type": "code",
   "execution_count": 106,
   "metadata": {
    "collapsed": false
   },
   "outputs": [
    {
     "data": {
      "text/plain": [
       "0.5593646565391344"
      ]
     },
     "execution_count": 106,
     "metadata": {},
     "output_type": "execute_result"
    }
   ],
   "source": [
    "new_simulated_xf.constant_cf"
   ]
  },
  {
   "cell_type": "code",
   "execution_count": 107,
   "metadata": {
    "collapsed": false
   },
   "outputs": [
    {
     "data": {
      "text/plain": [
       "0.05417756366340196"
      ]
     },
     "execution_count": 107,
     "metadata": {},
     "output_type": "execute_result"
    }
   ],
   "source": [
    "new_simulated_vf.constant_cf"
   ]
  },
  {
   "cell_type": "code",
   "execution_count": 108,
   "metadata": {
    "collapsed": false
   },
   "outputs": [
    {
     "name": "stdout",
     "output_type": "stream",
     "text": [
      "Differential learning xf: \t0.5575095882959649\n",
      "Real xf: \t\t\t0.5593646565391344\n",
      "Differential learning vf: \t0.05315918657381213\n",
      "Real vf: \t\t\t0.05417756366340196\n"
     ]
    }
   ],
   "source": [
    "print(\"Differential learning xf: \\t{}\".format(xf.evaluate(dweights)))\n",
    "print(\"Real xf: \\t\\t\\t{}\".format(new_simulated_xf.constant_cf))\n",
    "print(\"Differential learning vf: \\t{}\".format(vf.evaluate(dweights)))\n",
    "print(\"Real vf: \\t\\t\\t{}\".format(new_simulated_vf.constant_cf))"
   ]
  },
  {
   "cell_type": "code",
   "execution_count": null,
   "metadata": {
    "collapsed": true
   },
   "outputs": [],
   "source": []
  },
  {
   "cell_type": "code",
   "execution_count": null,
   "metadata": {
    "collapsed": true
   },
   "outputs": [],
   "source": []
  }
 ],
 "metadata": {
  "kernelspec": {
   "display_name": "Python 3",
   "language": "python",
   "name": "python3"
  },
  "language_info": {
   "codemirror_mode": {
    "name": "ipython",
    "version": 3
   },
   "file_extension": ".py",
   "mimetype": "text/x-python",
   "name": "python",
   "nbconvert_exporter": "python",
   "pygments_lexer": "ipython3",
   "version": "3.5.1"
  }
 },
 "nbformat": 4,
 "nbformat_minor": 0
}
