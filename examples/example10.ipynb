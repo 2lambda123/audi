{
 "cells": [
  {
   "cell_type": "markdown",
   "metadata": {},
   "source": [
    "# Differential Intelligence\n",
    "(Dario Izzo)\n",
    "\n",
    "In this notebook we lay down the basic idea behind \"differential intelligence\", that is the use of high order derivatives in learning"
   ]
  },
  {
   "cell_type": "markdown",
   "metadata": {},
   "source": [
    "## 1 - Importing stuff\n"
   ]
  },
  {
   "cell_type": "code",
   "execution_count": 4,
   "metadata": {
    "collapsed": false
   },
   "outputs": [],
   "source": [
    "from pyaudi import gdual, sin, cos, tan\n",
    "from random import random\n",
    "from matplotlib import pyplot as plt\n",
    "%matplotlib inline"
   ]
  },
  {
   "cell_type": "markdown",
   "metadata": {},
   "source": [
    "## 2 - Controller representation and \"simulator\"\n",
    "Take as an example the task of learning a robotic controller. In neuro evolution (or Evolutionary Robotics), the controller is typically represented by a neural network, but for the purpose of explaining this new learning concept we will use a polinomial representation for the controller. Later, changing the controller into a NN with weights as parameters will not change the essence of what is done here."
   ]
  },
  {
   "cell_type": "code",
   "execution_count": 5,
   "metadata": {
    "collapsed": true
   },
   "outputs": [],
   "source": [
    "# Definition of the controller in terms of some weights parameters\n",
    "def u(state, weights):\n",
    "    x,v = state\n",
    "    a,b,c,e,f,g = weights\n",
    "    return a + b*x + c*v + e*x*v + f*x**2 + g*v**2"
   ]
  },
  {
   "cell_type": "code",
   "execution_count": 6,
   "metadata": {
    "collapsed": false
   },
   "outputs": [],
   "source": [
    "# Definition of the equation of motion (our physics simulator propagating the system to its next state)\n",
    "def eom(state, weights):\n",
    "    x,v = state\n",
    "    dx = v\n",
    "    dv = u(state, weights)\n",
    "    return (dx, dv)"
   ]
  },
  {
   "cell_type": "markdown",
   "metadata": {},
   "source": [
    "## 3 - The Euler Propagation\n",
    "In Evolutionary Robotics Euler propagators are commonly used. The essence of what is done here would not change the if we code a Newton Raphson or a better method."
   ]
  },
  {
   "cell_type": "code",
   "execution_count": 7,
   "metadata": {
    "collapsed": false
   },
   "outputs": [],
   "source": [
    "# The weights are all generalized duals\n",
    "weights = [gdual(0.2*(random()-0.5), _, 4) for _ in \"abcefg\"]\n",
    "x = [gdual(2*(random()-0.5))]\n",
    "v = [gdual(2*(random()-0.5))]\n",
    "dt = 0.1\n",
    "# We propagate for 10 seconds (cannot oincrease this much as the control is polynomial thus x**2 and v**2 would make u1 biiiig)\n",
    "for i in range(100):\n",
    "    dx, dv = eom([x[-1],v[-1]], weights)\n",
    "    x.append(x[-1] + dt * dx)\n",
    "    v.append(v[-1] + dt * dv)"
   ]
  },
  {
   "cell_type": "markdown",
   "metadata": {},
   "source": [
    "NOTE: the resulting points are gdual, they contain information on how the state reached by our \"robot\" changes if we change the control weights!!"
   ]
  },
  {
   "cell_type": "code",
   "execution_count": 8,
   "metadata": {
    "collapsed": false
   },
   "outputs": [
    {
     "data": {
      "text/plain": [
       "(-0.629199,\n",
       " 67539.1*da*dc*df**2+197928*da*db*de*df+173.715*de**2*df+499.127*db*dc*de+7358.48*db*dc**2*df-99485.1*da*de*df**2-5099.01*da**3*dg-453.608*db*dc**3+382.909*da**3-4.99437*dc**2*dg**2-8626.97*db**2*de**2-3888.63*db**2*dc**2-16120.3*da**2*de**2+4.946*dc**2*dg-3.29313*dc**2-409.332*de**3*df-9568.02*db**4-667.009*da*df-5.30729*df*dg**3+31408.3*da*db**2*dc+...)"
      ]
     },
     "execution_count": 8,
     "metadata": {},
     "output_type": "execute_result"
    }
   ],
   "source": [
    "x[0], x[-1]"
   ]
  },
  {
   "cell_type": "code",
   "execution_count": 9,
   "metadata": {
    "collapsed": false
   },
   "outputs": [
    {
     "data": {
      "text/plain": [
       "(0.0538712,\n",
       " 57695.4*da*dc*df**2+163038*da*db*de*df+143.256*de**2*df+306.847*db*dc*de+5992.13*db*dc**2*df-88887.9*da*de*df**2-2461.79*da**3*dg-304.871*db*dc**3+145.405*da**3-5.46639*dc**2*dg**2-7069.35*db**2*de**2-2672.4*db**2*dc**2-11237.9*da**2*de**2+4.19436*dc**2*dg-2.38222*dc**2-484.931*de**3*df-8207.37*db**4-298.604*da*df-5.2879*df*dg**3+22983.3*da*db**2*dc+...)"
      ]
     },
     "execution_count": 9,
     "metadata": {},
     "output_type": "execute_result"
    }
   ],
   "source": [
    "v[0],v[-1]"
   ]
  },
  {
   "cell_type": "code",
   "execution_count": 10,
   "metadata": {
    "collapsed": false
   },
   "outputs": [
    {
     "data": {
      "image/png": "[encoded data removed]",
      "text/plain": [
       "<matplotlib.figure.Figure at 0x7f74747d6390>"
      ]
     },
     "metadata": {},
     "output_type": "display_data"
    }
   ],
   "source": [
    "plt.plot([it.constant_cf for it in x],[it.constant_cf for it in v])\n",
    "plt.plot(x[0].constant_cf, v[0].constant_cf, 'ro')\n",
    "plt.show()"
   ]
  },
  {
   "cell_type": "code",
   "execution_count": 11,
   "metadata": {
    "collapsed": false
   },
   "outputs": [],
   "source": [
    "xf, vf = x[-1], v[-1]"
   ]
  },
  {
   "cell_type": "code",
   "execution_count": 12,
   "metadata": {
    "collapsed": false
   },
   "outputs": [
    {
     "data": {
      "text/plain": [
       "-1.3492372334849267"
      ]
     },
     "execution_count": 12,
     "metadata": {},
     "output_type": "execute_result"
    }
   ],
   "source": [
    "xf.constant_cf"
   ]
  },
  {
   "cell_type": "code",
   "execution_count": 13,
   "metadata": {
    "collapsed": false
   },
   "outputs": [
    {
     "data": {
      "text/plain": [
       "-0.1481393324724386"
      ]
     },
     "execution_count": 13,
     "metadata": {},
     "output_type": "execute_result"
    }
   ],
   "source": [
    "vf.constant_cf"
   ]
  },
  {
   "cell_type": "markdown",
   "metadata": {},
   "source": [
    "# 4 - Studying the effects of the weights on the behavior\n",
    "We have represented all the robot behavior (x, v) as a polynomial function of the weights. So we now know what happens to the behaviour if we change the weights!! Lets see ... we only consider the final state, but the same can be done for all states before"
   ]
  },
  {
   "cell_type": "code",
   "execution_count": 14,
   "metadata": {
    "collapsed": false
   },
   "outputs": [
    {
     "name": "stdout",
     "output_type": "stream",
     "text": [
      "new xf: -1.106454924422462\n",
      "new vf: -0.0716398276194963\n"
     ]
    }
   ],
   "source": [
    "dweights = dict({'da': -0.002, 'db': 0.003, 'dc': -0.02, 'de': 0.03, 'df': 0.02, 'dg': -0.01})\n",
    "#Lets predict the new final position of our 'robot' if we change his controller as defined above\n",
    "print(\"new xf: {}\".format(xf.evaluate(dweights)))\n",
    "print(\"new vf: {}\".format(vf.evaluate(dweights)))"
   ]
  },
  {
   "cell_type": "markdown",
   "metadata": {},
   "source": [
    "# 5 - Check that we learned the correct map\n",
    "We now simulate again our behavior using the new weights to see where we end up to check if the prediction made after our differential learning is correct."
   ]
  },
  {
   "cell_type": "code",
   "execution_count": 15,
   "metadata": {
    "collapsed": false
   },
   "outputs": [],
   "source": [
    "new_weights = [it + dweights['d' + it.symbol_set[0]] for it in weights] "
   ]
  },
  {
   "cell_type": "code",
   "execution_count": 16,
   "metadata": {
    "collapsed": false
   },
   "outputs": [],
   "source": [
    "new_simulated_x = [x[0]]\n",
    "new_simulated_v = [v[0]]\n",
    "dt = 0.1\n",
    "# We propagate for 10 seconds (cannot oincrease this much as the control is polynomial thus x**2 and v**2 would make u1 biiiig)\n",
    "for i in range(100):\n",
    "    dx, dv = eom([new_simulated_x[-1],new_simulated_v[-1]], new_weights)\n",
    "    new_simulated_x.append(new_simulated_x[-1] + dt * dx)\n",
    "    new_simulated_v.append(new_simulated_v[-1] + dt * dv)"
   ]
  },
  {
   "cell_type": "code",
   "execution_count": 17,
   "metadata": {
    "collapsed": false
   },
   "outputs": [
    {
     "data": {
      "image/png": "[encoded data removed]",
      "text/plain": [
       "<matplotlib.figure.Figure at 0x7f74746b3ef0>"
      ]
     },
     "metadata": {},
     "output_type": "display_data"
    }
   ],
   "source": [
    "plt.plot([it.constant_cf for it in x],[it.constant_cf for it in v],label='original')\n",
    "plt.plot([it.constant_cf for it in new_simulated_x],[it.constant_cf for it in new_simulated_v],'r',label='simulation')\n",
    "plt.plot([it.evaluate(dweights) for it in x],[it.evaluate(dweights) for it in v],'g',label='differential learning')\n",
    "plt.plot(x[0].constant_cf, v[0].constant_cf, 'ro')\n",
    "plt.legend(loc=2)\n",
    "plt.show()"
   ]
  },
  {
   "cell_type": "code",
   "execution_count": 18,
   "metadata": {
    "collapsed": false
   },
   "outputs": [],
   "source": [
    "new_simulated_xf, new_simulated_vf = new_simulated_x[-1], new_simulated_v[-1]"
   ]
  },
  {
   "cell_type": "code",
   "execution_count": 19,
   "metadata": {
    "collapsed": false
   },
   "outputs": [
    {
     "data": {
      "text/plain": [
       "-1.1056532426709447"
      ]
     },
     "execution_count": 19,
     "metadata": {},
     "output_type": "execute_result"
    }
   ],
   "source": [
    "new_simulated_xf.constant_cf"
   ]
  },
  {
   "cell_type": "code",
   "execution_count": 20,
   "metadata": {
    "collapsed": false
   },
   "outputs": [
    {
     "data": {
      "text/plain": [
       "-0.07057045539528779"
      ]
     },
     "execution_count": 20,
     "metadata": {},
     "output_type": "execute_result"
    }
   ],
   "source": [
    "new_simulated_vf.constant_cf"
   ]
  },
  {
   "cell_type": "code",
   "execution_count": 21,
   "metadata": {
    "collapsed": false
   },
   "outputs": [
    {
     "name": "stdout",
     "output_type": "stream",
     "text": [
      "Differential learning xf: \t-1.106454924422462\n",
      "Real xf: \t\t\t-1.1056532426709447\n",
      "Differential learning vf: \t-0.0716398276194963\n",
      "Real vf: \t\t\t-0.07057045539528779\n"
     ]
    }
   ],
   "source": [
    "print(\"Differential learning xf: \\t{}\".format(xf.evaluate(dweights)))\n",
    "print(\"Real xf: \\t\\t\\t{}\".format(new_simulated_xf.constant_cf))\n",
    "print(\"Differential learning vf: \\t{}\".format(vf.evaluate(dweights)))\n",
    "print(\"Real vf: \\t\\t\\t{}\".format(new_simulated_vf.constant_cf))"
   ]
  }
 ],
 "metadata": {
  "kernelspec": {
   "display_name": "Python 3",
   "language": "python",
   "name": "python3"
  },
  "language_info": {
   "codemirror_mode": {
    "name": "ipython",
    "version": 3
   },
   "file_extension": ".py",
   "mimetype": "text/x-python",
   "name": "python",
   "nbconvert_exporter": "python",
   "pygments_lexer": "ipython3",
   "version": "3.5.1"
  }
 },
 "nbformat": 4,
 "nbformat_minor": 0
}
